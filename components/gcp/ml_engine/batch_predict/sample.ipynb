{
 "cells": [
  {
   "cell_type": "markdown",
   "metadata": {},
   "source": [
    "# Name\n",
    "Batch prediction using Cloud Machine Learning Engine\n",
    "\n",
    "# Labels\n",
    "Cloud Storage, Cloud ML Engine, Kubeflow, Pipeline, Component\n",
    "\n",
    "# Summary\n",
    "A Kubeflow Pipeline component to submit a batch prediction job against a deployed model on Cloud ML Engine.\n",
    "\n",
    "# Details\n",
    "## Intended use\n",
    "Use the component to run a batch prediction job against a deployed model on Cloud ML Engine. The prediction output is stored in a Cloud Storage bucket.\n",
    "\n",
    "## Runtime arguments\n",
    "Name | Description | Type | Optional | Default\n",
    ":--- | :---------- | :--- | :------- | :------\n",
    "project_id | The ID of the Google Cloud Project (GCP) of the job. | GCPProjectID | No |\n",
    "model_path | The path to the model. It can be one of the following:<ul><li>`projects/[PROJECT_ID]/models/[MODEL_ID]`</li><li>`projects/[PROJECT_ID]/models/[MODEL_ID]/versions/[VERSION_ID]`</li><li>The path to a Cloud Storage location containing a model file.</li></ul> | String | No |\n",
    "input_paths |The path to the Cloud Storage location containing the input data files. It can contain wildcards, for example, `gs://foo/*.csv` | List | No |\n",
    "input_data_format | The format of the input data files. See [REST Resource: projects.jobs](https://cloud.google.com/ml-engine/reference/rest/v1/projects.jobs#DataFormat) for more details. | String | No |\n",
    "output_path | The path to the Cloud Storage location for the output data. | GCSPath | No |\n",
    "region | TThe Compute Engine region where the prediction job is run. | GCPRegion | No |\n",
    "output_data_format | The format of the output data files. See [REST Resource: projects.jobs](https://cloud.google.com/ml-engine/reference/rest/v1/projects.jobs#DataFormat) for more details. | String | Yes | `JSON`\n",
    "prediction_input | The JSON input parameters to create a prediction job. See [PredictionInput](https://cloud.google.com/ml-engine/reference/rest/v1/projects.jobs#PredictionInput) for more information. | Dict | Yes | ` `\n",
    "job_id_prefix | The prefix of the generated job id. | String | Yes | ` `\n",
    "wait_interval | The number of seconds to wait in case the operation has a long run time. | Integer | Yes | `30`\n",
    "\n",
    "## Input data schema\n",
    "The component accepts the following as input:\n",
    "* A trained model: It can be a model file in Cloud Storage, a deployed model, or a version in Cloud ML Engine. Specify the path to the model in the `model_path` runtime argument.\n",
    "* Input data: The data used to make predictions against the trained model. The data can be in [multiple formats](https://cloud.google.com/ml-engine/reference/rest/v1/projects.jobs#DataFormat). The data path is specified by `input_paths` and the format is specified by `input_data_format`.\n",
    "\n",
    "## Output\n",
    "Name | Description | Type\n",
    ":--- | :---------- | :---\n",
    "job_id | The ID of the created batch job. | String\n",
    "output_path | The output path of the batch prediction job | GCSPath\n",
    "\n",
    "\n",
    "## Cautions & requirements\n",
    "To use the component, you must:\n",
    "* Setup cloud environment by following the [guide](https://cloud.google.com/ml-engine/docs/tensorflow/getting-started-training-prediction#setup).\n",
    "* The component is running under a secret of [Kubeflow user service account](https://www.kubeflow.org/docs/started/getting-started-gke/#gcp-service-accounts) in a Kubeflow cluster. For example:\n",
    "\n",
    "```python\n",
    "mlengine_predict_op(...).apply(gcp.use_gcp_secret('user-gcp-sa'))\n",
    "\n",
    "```\n",
    "* Grant the following types of access to the Kubeflow user service account:\n",
    "  * Read access to the Cloud Storage buckets which contains the input data.\n",
    "  * Write access to the Cloud Storage bucket of the output directory.\n",
    "\n",
    "\n",
    "## Detailed Description\n",
    "\n",
    "Here are the steps to use the component in a pipeline:\n",
    "1. Install KFP SDK\n"
   ]
  },
  {
   "cell_type": "code",
   "execution_count": null,
   "metadata": {},
   "outputs": [],
   "source": [
    "%%capture --no-stderr\n",
    "\n",
    "KFP_PACKAGE = 'https://storage.googleapis.com/ml-pipeline/release/0.1.14/kfp.tar.gz'\n",
    "!pip3 install $KFP_PACKAGE --upgrade"
   ]
  },
  {
   "cell_type": "markdown",
   "metadata": {},
   "source": [
    "2. Load the component using KFP SDK"
   ]
  },
  {
   "cell_type": "code",
   "execution_count": null,
   "metadata": {},
   "outputs": [],
   "source": [
    "import kfp.components as comp\n",
    "\n",
    "mlengine_batch_predict_op = comp.load_component_from_url(\n",
    "    'https://raw.githubusercontent.com/kubeflow/pipelines/d2f5cc92a46012b9927209e2aaccab70961582dc/components/gcp/ml_engine/batch_predict/component.yaml')\n",
    "help(mlengine_batch_predict_op)"
   ]
  },
  {
   "cell_type": "markdown",
   "metadata": {},
   "source": [
    "\n",
    "### Sample Code\n",
    "Note: The following sample code works in an IPython notebook or directly in Python code. \n",
    "\n",
    "In this sample, you batch predict against a pre-built trained model from  `gs://ml-pipeline-playground/samples/ml_engine/census/trained_model/` and use the test data from `gs://ml-pipeline-playground/samples/ml_engine/census/test.json`. \n",
    "\n",
    "#### Inspect the test data"
   ]
  },
  {
   "cell_type": "code",
   "execution_count": null,
   "metadata": {},
   "outputs": [],
   "source": [
    "!gsutil cat gs://ml-pipeline-playground/samples/ml_engine/census/test.json"
   ]
  },
  {
   "cell_type": "markdown",
   "metadata": {},
   "source": [
    "#### Set sample parameters"
   ]
  },
  {
   "cell_type": "code",
   "execution_count": null,
   "metadata": {
    "tags": [
     "parameters"
    ]
   },
   "outputs": [],
   "source": [
    "# Required Parameters\n",
    "PROJECT_ID = '<Please put your project ID here>'\n",
    "GCS_WORKING_DIR = 'gs://<Please put your GCS path here>' # No ending slash"
   ]
  },
  {
   "cell_type": "code",
   "execution_count": null,
   "metadata": {},
   "outputs": [],
   "source": [
    "# Optional Parameters\n",
    "EXPERIMENT_NAME = 'CLOUDML - Batch Predict'\n",
    "OUTPUT_GCS_PATH = GCS_WORKING_DIR + '/batch_predict/output/'"
   ]
  },
  {
   "cell_type": "markdown",
   "metadata": {},
   "source": [
    "#### Example pipeline that uses the component"
   ]
  },
  {
   "cell_type": "code",
   "execution_count": null,
   "metadata": {},
   "outputs": [],
   "source": [
    "import kfp.dsl as dsl\n",
    "import kfp.gcp as gcp\n",
    "import json\n",
    "@dsl.pipeline(\n",
    "    name='CloudML batch predict pipeline',\n",
    "    description='CloudML batch predict pipeline'\n",
    ")\n",
    "def pipeline(\n",
    "    project_id = PROJECT_ID, \n",
    "    model_path = 'gs://ml-pipeline-playground/samples/ml_engine/census/trained_model/', \n",
    "    input_paths = '[\"gs://ml-pipeline-playground/samples/ml_engine/census/test.json\"]', \n",
    "    input_data_format = 'JSON', \n",
    "    output_path = OUTPUT_GCS_PATH, \n",
    "    region = 'us-central1', \n",
    "    output_data_format='', \n",
    "    prediction_input = json.dumps({\n",
    "        'runtimeVersion': '1.10'\n",
    "    }), \n",
    "    job_id_prefix='',\n",
    "    wait_interval='30'):\n",
    "        mlengine_batch_predict_op(\n",
    "            project_id=project_id, \n",
    "            model_path=model_path, \n",
    "            input_paths=input_paths, \n",
    "            input_data_format=input_data_format, \n",
    "            output_path=output_path, \n",
    "            region=region, \n",
    "            output_data_format=output_data_format, \n",
    "            prediction_input=prediction_input, \n",
    "            job_id_prefix=job_id_prefix,\n",
    "            wait_interval=wait_interval).apply(gcp.use_gcp_secret('user-gcp-sa'))"
   ]
  },
  {
   "cell_type": "markdown",
   "metadata": {},
   "source": [
    "#### Compile the pipeline"
   ]
  },
  {
   "cell_type": "code",
   "execution_count": null,
   "metadata": {},
   "outputs": [],
   "source": [
    "pipeline_func = pipeline\n",
    "pipeline_filename = pipeline_func.__name__ + '.zip'\n",
    "import kfp.compiler as compiler\n",
    "compiler.Compiler().compile(pipeline_func, pipeline_filename)"
   ]
  },
  {
   "cell_type": "markdown",
   "metadata": {},
   "source": [
    "#### Submit the pipeline for execution"
   ]
  },
  {
   "cell_type": "code",
   "execution_count": null,
   "metadata": {},
   "outputs": [],
   "source": [
    "#Specify pipeline argument values\n",
    "arguments = {}\n",
    "\n",
    "#Get or create an experiment and submit a pipeline run\n",
    "import kfp\n",
    "client = kfp.Client()\n",
    "experiment = client.create_experiment(EXPERIMENT_NAME)\n",
    "\n",
    "#Submit a pipeline run\n",
    "run_name = pipeline_func.__name__ + ' run'\n",
    "run_result = client.run_pipeline(experiment.id, run_name, pipeline_filename, arguments)"
   ]
  },
  {
   "cell_type": "markdown",
   "metadata": {},
   "source": [
    "#### Inspect prediction results"
   ]
  },
  {
   "cell_type": "code",
   "execution_count": null,
   "metadata": {},
   "outputs": [],
   "source": [
    "OUTPUT_FILES_PATTERN = OUTPUT_GCS_PATH + '*'\n",
    "!gsutil cat OUTPUT_FILES_PATTERN"
   ]
  },
  {
   "cell_type": "markdown",
   "metadata": {},
   "source": [
    "## References\n",
    "* [Component python code](https://github.com/kubeflow/pipelines/blob/master/component_sdk/python/kfp_component/google/ml_engine/_batch_predict.py)\n",
    "* [Component docker file](https://github.com/kubeflow/pipelines/blob/master/components/gcp/container/Dockerfile)\n",
    "* [Sample notebook](https://github.com/kubeflow/pipelines/blob/master/components/gcp/ml_engine/batch_predict/sample.ipynb)\n",
    "* [Cloud Machine Learning Engine job REST API](https://cloud.google.com/ml-engine/reference/rest/v1/projects.jobs)"
   ]
  }
 ],
 "metadata": {
  "kernelspec": {
   "display_name": "Python 3",
   "language": "python",
   "name": "python3"
  },
  "language_info": {
   "codemirror_mode": {
    "name": "ipython",
    "version": 3
   },
   "file_extension": ".py",
   "mimetype": "text/x-python",
   "name": "python",
   "nbconvert_exporter": "python",
   "pygments_lexer": "ipython3",
   "version": "3.6.5"
  }
 },
 "nbformat": 4,
 "nbformat_minor": 2
}
